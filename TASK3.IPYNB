{
 "cells": [
  {
   "cell_type": "markdown",
   "id": "cddef660",
   "metadata": {},
   "source": [
    "# 1: Code for Luhn Algorithm"
   ]
  },
  {
   "cell_type": "code",
   "execution_count": null,
   "id": "c6f7f6f3",
   "metadata": {},
   "outputs": [
    {
     "name": "stdout",
     "output_type": "stream",
     "text": [
      "764380765432 is INVALID \n"
     ]
    }
   ],
   "source": [
    "def luhn_check(number: str) -> bool:\n",
    "    # Step 1: reverse the number (excluding last digit)\n",
    "    digits = [int(d) for d in number][::-1]\n",
    "\n",
    "    total = 0\n",
    "    for i, digit in enumerate(digits):\n",
    "        if i % 2 == 1:  \n",
    "            doubled = digit * 2\n",
    "            if doubled > 9:\n",
    "                doubled -= 9\n",
    "            total += doubled\n",
    "        else:\n",
    "            total += digit\n",
    "\n",
    "    \n",
    "    return total % 10 == 0\n",
    "\n",
    "\n",
    "\n",
    "card_number = \"764380765432\"\n",
    "if luhn_check(card_number):\n",
    "    print(f\"{card_number} is VALID \")\n",
    "else:\n",
    "    print(f\"{card_number} is INVALID \")\n"
   ]
  },
  {
   "cell_type": "markdown",
   "id": "83108c2e",
   "metadata": {},
   "source": [
    "# 2: Remove punctuation from string"
   ]
  },
  {
   "cell_type": "code",
   "execution_count": 6,
   "id": "07f63d26",
   "metadata": {},
   "outputs": [
    {
     "name": "stdout",
     "output_type": "stream",
     "text": [
      "Original String:  Hello!!! How are you doing? (I hope fine...)\n",
      "Without Punctuations:  Hello How are you doing I hope fine\n"
     ]
    }
   ],
   "source": [
    "import string\n",
    "\n",
    "def remove_punctuations(text: str) -> str:\n",
    "     \n",
    "    return ''.join(ch for ch in text if ch not in string.punctuation)\n",
    "\n",
    "\n",
    "# Example usage\n",
    "sentence = \"Hello!!! How are you doing? (I hope fine...)\"\n",
    "cleaned = remove_punctuations(sentence)\n",
    "\n",
    "print(\"Original String: \", sentence)\n",
    "print(\"Without Punctuations: \", cleaned)\n"
   ]
  },
  {
   "cell_type": "markdown",
   "id": "4ee3e931",
   "metadata": {},
   "source": [
    "# 3: Sort the sentence"
   ]
  },
  {
   "cell_type": "code",
   "execution_count": 7,
   "id": "8266dedc",
   "metadata": {},
   "outputs": [
    {
     "name": "stdout",
     "output_type": "stream",
     "text": [
      "Original Sentence:  Python is a very powerful and simple language\n",
      "Alphabetically Sorted:  a and is language powerful Python simple very\n"
     ]
    }
   ],
   "source": [
    "def sort_sentence_alphabetically(sentence: str) -> str:\n",
    "    # Step 1: split sentence into words\n",
    "    words = sentence.split()\n",
    "\n",
    "    # Step 2: sort words alphabetically (case-insensitive)\n",
    "    words.sort(key=str.lower)\n",
    "\n",
    "    # Step 3: join sorted words back into a string\n",
    "    return ' '.join(words)\n",
    "\n",
    "\n",
    "# Example usage\n",
    "sentence = \"Python is a very powerful and simple language\"\n",
    "sorted_sentence = sort_sentence_alphabetically(sentence)\n",
    "\n",
    "print(\"Original Sentence: \", sentence)\n",
    "print(\"Alphabetically Sorted: \", sorted_sentence)\n"
   ]
  }
 ],
 "metadata": {
  "kernelspec": {
   "display_name": "Python 3",
   "language": "python",
   "name": "python3"
  },
  "language_info": {
   "codemirror_mode": {
    "name": "ipython",
    "version": 3
   },
   "file_extension": ".py",
   "mimetype": "text/x-python",
   "name": "python",
   "nbconvert_exporter": "python",
   "pygments_lexer": "ipython3",
   "version": "3.13.5"
  }
 },
 "nbformat": 4,
 "nbformat_minor": 5
}
