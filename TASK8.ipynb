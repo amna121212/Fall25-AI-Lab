{
 "cells": [
  {
   "cell_type": "markdown",
   "id": "498bd11f",
   "metadata": {},
   "source": [
    "# MIN- MAX Algorithm"
   ]
  },
  {
   "cell_type": "code",
   "execution_count": 1,
   "id": "856c95d7",
   "metadata": {},
   "outputs": [
    {
     "name": "stdout",
     "output_type": "stream",
     "text": [
      "\n",
      " Min-Max Evaluation \n",
      "Depth 2: MAX(3, 2) → 3\n",
      "Depth 2: MAX(5, 4) → 5\n",
      "Depth 1: MIN(3, 5) → 3\n",
      "Depth 2: MAX(7, 2) → 7\n",
      "Depth 2: MAX(7, 7) → 7\n",
      "Depth 1: MIN(7, 7) → 7\n",
      "Depth 0: MAX(3, 7) → 7\n",
      "\n",
      " Optimal value : 7\n"
     ]
    }
   ],
   "source": [
    "import math\n",
    "\n",
    "values = [3, 2, 5, 4, 7, 2, 7, 7]\n",
    "treeDepth = int(math.log(len(values), 2))\n",
    "\n",
    "def minmax(currDepth, nodeIndex, isMinTurn, values, treeDepth):\n",
    "    # Base case: reached leaf node\n",
    "    if currDepth == treeDepth:\n",
    "        return values[nodeIndex]\n",
    "    \n",
    "    if isMinTurn:\n",
    "        left = minmax(currDepth + 1, nodeIndex * 2, False, values, treeDepth)\n",
    "        right = minmax(currDepth + 1, nodeIndex * 2 + 1, False, values, treeDepth)\n",
    "        print(f\"Depth {currDepth}: MIN({left}, {right}) → {min(left, right)}\")\n",
    "        return min(left, right)\n",
    "    \n",
    "    \n",
    "    else:\n",
    "        left = minmax(currDepth + 1, nodeIndex * 2, True, values, treeDepth)\n",
    "        right = minmax(currDepth + 1, nodeIndex * 2 + 1, True, values, treeDepth)\n",
    "        print(f\"Depth {currDepth}: MAX({left}, {right}) → {max(left, right)}\")\n",
    "        return max(left, right)\n",
    "\n",
    "\n",
    "print(\"\\n Min-Max Evaluation \")\n",
    "result = minmax(0, 0, False, values, treeDepth)\n",
    "print(\"\\n Optimal value :\", result)\n"
   ]
  }
 ],
 "metadata": {
  "kernelspec": {
   "display_name": "Python 3",
   "language": "python",
   "name": "python3"
  },
  "language_info": {
   "codemirror_mode": {
    "name": "ipython",
    "version": 3
   },
   "file_extension": ".py",
   "mimetype": "text/x-python",
   "name": "python",
   "nbconvert_exporter": "python",
   "pygments_lexer": "ipython3",
   "version": "3.13.9"
  }
 },
 "nbformat": 4,
 "nbformat_minor": 5
}
