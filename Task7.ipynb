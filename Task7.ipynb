{
 "cells": [
  {
   "cell_type": "markdown",
   "id": "5f178ede",
   "metadata": {},
   "source": [
    "# A* Algorithm \n",
    "## this algorithm is use to find the shortest path between two nodes by using \n",
    "### f(n) = g(n) + h(n)"
   ]
  },
  {
   "cell_type": "code",
   "execution_count": null,
   "id": "96f47aa9",
   "metadata": {},
   "outputs": [
    {
     "name": "stdout",
     "output_type": "stream",
     "text": [
      " Path is: ['A', 'B', 'D']\n"
     ]
    },
    {
     "data": {
      "text/plain": [
       "['A', 'B', 'D']"
      ]
     },
     "execution_count": 1,
     "metadata": {},
     "output_type": "execute_result"
    }
   ],
   "source": [
    "from collections import defaultdict\n",
    "\n",
    "class Graph:\n",
    "    def __init__(self, adjacency_list):\n",
    "        self.adjacency_list = adjacency_list\n",
    "\n",
    "\n",
    "    def get_neighbors(self, v):\n",
    "        return self.adjacency_list.get(v, [])\n",
    " \n",
    "\n",
    "    def h(self, n):\n",
    "        H = {\n",
    "            'A': 1,\n",
    "            'B': 1,\n",
    "            'C': 1,\n",
    "            'D': 1\n",
    "        }\n",
    "        return H.get(n, 0)\n",
    "\n",
    "    def a_star(self, start, goal):\n",
    "        open_list = set([start])\n",
    "        closed_list = set([])\n",
    "\n",
    "\n",
    "        g = defaultdict(lambda: float('inf'))\n",
    "        g[start] = 0\n",
    "\n",
    "        \n",
    "        parent = {start: start}\n",
    "\n",
    "        while open_list:\n",
    "            n = None\n",
    "\n",
    "            \n",
    "            for v in open_list:\n",
    "                if n is None or g[v] + self.h(v) < g[n] + self.h(n):\n",
    "                    n = v\n",
    "\n",
    "            if n is None:\n",
    "                print(\"Path does not exist!\")\n",
    "                return None\n",
    "\n",
    "        \n",
    "            if n == goal:\n",
    "                path = []\n",
    "                while parent[n] != n:\n",
    "                    path.append(n)\n",
    "                    n = parent[n]\n",
    "                path.append(start)\n",
    "                path.reverse()\n",
    "                print(\" Path is:\", path)\n",
    "                return path\n",
    "\n",
    "            \n",
    "            for (m, cost) in self.get_neighbors(n):\n",
    "                if m not in open_list and m not in closed_list:\n",
    "                    open_list.add(m)\n",
    "                    parent[m] = n\n",
    "                    g[m] = g[n] + cost\n",
    "                else:\n",
    "                    \n",
    "                    if g[m] > g[n] + cost:\n",
    "                        g[m] = g[n] + cost\n",
    "                        parent[m] = n\n",
    "\n",
    "                        if m in closed_list:\n",
    "                            closed_list.remove(m)\n",
    "                            open_list.add(m)\n",
    "\n",
    "            \n",
    "            open_list.remove(n)\n",
    "            closed_list.add(n)\n",
    "\n",
    "        print(\"Path does not exist!\")\n",
    "        return None\n",
    "\n",
    "adjacency_list = {\n",
    "    'A': [('B', 1), ('C', 3), ('D', 7)],\n",
    "    'B': [('D', 5)],\n",
    "    'C': [('D', 12)],\n",
    "    'D': []\n",
    "}\n",
    "\n",
    "graph = Graph(adjacency_list)\n",
    "graph.a_star('A', 'D')\n"
   ]
  }
 ],
 "metadata": {
  "kernelspec": {
   "display_name": "Python 3",
   "language": "python",
   "name": "python3"
  },
  "language_info": {
   "codemirror_mode": {
    "name": "ipython",
    "version": 3
   },
   "file_extension": ".py",
   "mimetype": "text/x-python",
   "name": "python",
   "nbconvert_exporter": "python",
   "pygments_lexer": "ipython3",
   "version": "3.13.7"
  }
 },
 "nbformat": 4,
 "nbformat_minor": 5
}
